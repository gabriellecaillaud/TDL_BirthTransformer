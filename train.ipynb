{
 "cells": [
  {
   "cell_type": "markdown",
   "metadata": {},
   "source": [
    "## imports"
   ]
  },
  {
   "cell_type": "code",
   "execution_count": 52,
   "metadata": {},
   "outputs": [],
   "source": [
    "from collections import defaultdict\n",
    "from dataclasses import dataclass\n",
    "import itertools\n",
    "import logging\n",
    "import random\n",
    "import json\n",
    "import math\n",
    "import numpy as np\n",
    "import time\n",
    "import torch\n",
    "import sys\n",
    "\n",
    "from omegaconf import OmegaConf\n",
    "from torch import nn, Tensor\n",
    "from torch.nn import functional as F\n",
    "from typing import List, Optional, Tuple\n",
    "from pathlib import Path\n",
    "\n",
    "from dataset import DataArgs, Dataset, iterate_batches\n",
    "from basic_model import ModelArgs, Transformer"
   ]
  },
  {
   "cell_type": "code",
   "execution_count": 53,
   "metadata": {},
   "outputs": [],
   "source": [
    "@dataclass\n",
    "class OptimArgs:\n",
    "    learning_rate: float = 0.2  # for SGD\n",
    "    weight_decay: float = 1e-4  # for SGD\n",
    "    momentum: float = 0.9  # for SGD\n",
    "    batch_size: int = 512\n",
    "    use_sgd: bool = True  # otherwise use AdamW\n",
    "\n",
    "\n",
    "@dataclass\n",
    "class TrainerArgs:\n",
    "    optim_args: OptimArgs\n",
    "    data_args: DataArgs\n",
    "    model_args: ModelArgs\n",
    "    max_iters: Optional[int] = None\n",
    "    eval_delta: int = 5\n",
    "    log_norms: bool = False\n",
    "    log_probes: bool = False\n",
    "    freeze_until: str = ''\n",
    "    loss_head_only: bool = True\n",
    "    bigram_outs_train: bool = False\n",
    "    bigram_outs_test: bool = False\n",
    "    num_data_workers: int = 60\n",
    "    seed: int = 42\n",
    "    save_dir: Optional[str] = None\n",
    "    root_dir: str = ''\n"
   ]
  },
  {
   "cell_type": "code",
   "execution_count": 54,
   "metadata": {},
   "outputs": [],
   "source": [
    " args = TrainerArgs(\n",
    "           optim_args=OptimArgs(),\n",
    "           data_args=DataArgs(),\n",
    "           model_args=ModelArgs()\n",
    "        )"
   ]
  },
  {
   "cell_type": "code",
   "execution_count": 55,
   "metadata": {},
   "outputs": [],
   "source": [
    "cfg = OmegaConf.merge(OmegaConf.structured(args))"
   ]
  },
  {
   "cell_type": "code",
   "execution_count": 56,
   "metadata": {},
   "outputs": [],
   "source": [
    "ds = Dataset(cfg.data_args, train_test=None, bigram_outs=cfg.bigram_outs_train)\n",
    "ds_test = Dataset(cfg.data_args, train_test=None, bigram_outs=cfg.bigram_outs_test)\n",
    "ds_test.idxs = ds.idxs\n",
    "cfg.model_args.vocab_size = ds.num_tokens"
   ]
  },
  {
   "cell_type": "code",
   "execution_count": 57,
   "metadata": {},
   "outputs": [
    {
     "data": {
      "text/plain": [
       "Transformer(\n",
       "  (tok_embeddings): Embedding(65, 64)\n",
       "  (layers): ModuleList(\n",
       "    (0-1): 2 x TransformerBlock(\n",
       "      (attention): Attention(\n",
       "        (wq): Identity()\n",
       "        (wk): Linear(in_features=64, out_features=64, bias=False)\n",
       "        (wv): Linear(in_features=64, out_features=64, bias=False)\n",
       "        (wo): Linear(in_features=64, out_features=64, bias=False)\n",
       "      )\n",
       "    )\n",
       "  )\n",
       "  (output): Linear(in_features=64, out_features=65, bias=False)\n",
       ")"
      ]
     },
     "execution_count": 57,
     "metadata": {},
     "output_type": "execute_result"
    }
   ],
   "source": [
    "  \n",
    "model = Transformer(cfg.model_args)\n",
    "device = \"cuda\" if torch.cuda.is_available() else \"cpu\"\n",
    "model.to(device)\n"
   ]
  },
  {
   "cell_type": "markdown",
   "metadata": {},
   "source": [
    "Add attention hooks"
   ]
  },
  {
   "cell_type": "code",
   "execution_count": 58,
   "metadata": {},
   "outputs": [
    {
     "data": {
      "text/plain": [
       "<torch.utils.hooks.RemovableHandle at 0x7f1fae047ee0>"
      ]
     },
     "execution_count": 58,
     "metadata": {},
     "output_type": "execute_result"
    }
   ],
   "source": [
    "attn_features = None\n",
    "attn_features2 = None\n",
    "attn_input_features = None\n",
    "attn_scores = None\n",
    "attn_scores2 = None\n",
    "def attn0_hook(_, inp, outp):\n",
    "    global attn_features, attn_input_features, attn_scores\n",
    "    attn_input_features = inp[0].detach()\n",
    "    attn_features = outp[0].detach()\n",
    "    attn_scores = outp[1].detach()\n",
    "model.layers[0].attention.register_forward_hook(attn0_hook)\n",
    "def attn1_hook(_, inp, outp):\n",
    "    global attn_scores2, attn_features2\n",
    "    attn_features2 = outp[0].detach()\n",
    "    attn_scores2 = outp[1].detach()\n",
    "model.layers[1].attention.register_forward_hook(attn1_hook)"
   ]
  },
  {
   "cell_type": "code",
   "execution_count": 59,
   "metadata": {},
   "outputs": [],
   "source": [
    "# memory probes\n",
    "range_toks = torch.from_numpy(np.arange(ds.n_train_toks)).to(device)\n",
    "def test_wo1():\n",
    "    toks = model.tok_embeddings(range_toks)\n",
    "    toks = model.layers[1].attention.wv(toks)\n",
    "    toks = model.layers[1].attention.wo(toks)\n",
    "    toks = model.output(toks)\n",
    "    return (toks.argmax(-1) == range_toks).float().mean().item()\n",
    "\n",
    "full_range_toks = torch.from_numpy(np.arange(ds.num_tokens)).to(device)\n",
    "conds = torch.from_numpy(np.array(ds.cond)).to(device)\n",
    "used_idxs = np.arange(ds.num_tokens)\n",
    "if cfg.data_args.fixed_special_toks:\n",
    "    used_idxs = np.setdiff1d(used_idxs, ds.idxs)\n",
    "def test_ff1():\n",
    "    toks = model.tok_embeddings(full_range_toks[used_idxs])\n",
    "    toks = model.layers[1].ff(toks)\n",
    "    toks = model.output(toks)\n",
    "    return F.kl_div(F.log_softmax(toks, dim=1), conds[used_idxs], reduction='batchmean').item()\n",
    "\n",
    "range_pos_toks = torch.from_numpy(np.arange(cfg.model_args.max_length)).to(device)\n",
    "def test_wk0(cutoff=None):\n",
    "    pe = model.pe[:cutoff,:]\n",
    "    k = model.layers[0].attention.wk(pe[:-1])\n",
    "    q = model.layers[0].attention.wq(pe[1:])\n",
    "    return ((q @ k.t()).argmax(-1) == range_pos_toks[:pe.shape[0]-1]).float().mean().item()\n",
    "\n",
    "wk1_range_toks = full_range_toks.clone()\n",
    "if cfg.data_args.fixed_special_toks:\n",
    "    wk1_range_toks = wk1_range_toks[ds.idxs]\n",
    "def test_wk1():\n",
    "    toksk = model.tok_embeddings(wk1_range_toks)\n",
    "    toksk = model.layers[0].attention.wv(toksk)\n",
    "    toksk = model.layers[0].attention.wo(toksk)\n",
    "    toksk = model.layers[1].attention.wk(toksk)\n",
    "\n",
    "    toksq = model.tok_embeddings(wk1_range_toks)\n",
    "    toksq = model.layers[1].attention.wq(toksq)\n",
    "    return ((toksq @ toksk.t()).argmax(-1) == range_toks[:wk1_range_toks.shape[0]]).float().mean().item()\n",
    "\n"
   ]
  },
  {
   "cell_type": "code",
   "execution_count": 60,
   "metadata": {},
   "outputs": [
    {
     "data": {
      "text/plain": [
       "''"
      ]
     },
     "execution_count": 60,
     "metadata": {},
     "output_type": "execute_result"
    }
   ],
   "source": [
    "cfg.freeze_until"
   ]
  },
  {
   "cell_type": "code",
   "execution_count": 61,
   "metadata": {},
   "outputs": [
    {
     "name": "stdout",
     "output_type": "stream",
     "text": [
      "['tok_embeddings.weight', 'layers.0.attention.wk.weight', 'layers.0.attention.wv.weight', 'layers.0.attention.wo.weight', 'layers.1.attention.wk.weight', 'layers.1.attention.wv.weight', 'layers.1.attention.wo.weight', 'output.weight']\n"
     ]
    }
   ],
   "source": [
    "# available params to potentially freeze:\n",
    "print( list(name for name, p in model.named_parameters()))"
   ]
  },
  {
   "cell_type": "code",
   "execution_count": 62,
   "metadata": {},
   "outputs": [],
   "source": [
    "cfg.freeze_until = \"300:layers.1.attention.wo.weight\""
   ]
  },
  {
   "cell_type": "code",
   "execution_count": 39,
   "metadata": {},
   "outputs": [],
   "source": [
    "# initial param freezing\n",
    "freeze_until = defaultdict(list)\n",
    "to_freeze = []\n",
    "if cfg.freeze_until:\n",
    "    for kv in cfg.freeze_until.split(','):\n",
    "        k, v = kv.split(':')\n",
    "        k = int(k)\n",
    "        to_freeze.append(v)\n",
    "        freeze_until[k].append(v)\n",
    "\n",
    "    for name, p in model.named_parameters():\n",
    "        if name in to_freeze:\n",
    "            p.requires_grad_(False)\n"
   ]
  },
  {
   "cell_type": "code",
   "execution_count": 40,
   "metadata": {},
   "outputs": [
    {
     "data": {
      "text/plain": [
       "defaultdict(list, {300: ['layers.1.attention.wo.weight']})"
      ]
     },
     "execution_count": 40,
     "metadata": {},
     "output_type": "execute_result"
    }
   ],
   "source": [
    "freeze_until"
   ]
  },
  {
   "cell_type": "code",
   "execution_count": 41,
   "metadata": {},
   "outputs": [
    {
     "data": {
      "text/plain": [
       "True"
      ]
     },
     "execution_count": 41,
     "metadata": {},
     "output_type": "execute_result"
    }
   ],
   "source": [
    "cfg.optim_args.use_sgd"
   ]
  },
  {
   "cell_type": "code",
   "execution_count": 42,
   "metadata": {},
   "outputs": [],
   "source": [
    "if cfg.optim_args.use_sgd:\n",
    "    optimizer = torch.optim.SGD(model.parameters(),\n",
    "            lr=cfg.optim_args.learning_rate,\n",
    "            weight_decay=cfg.optim_args.weight_decay,\n",
    "            momentum=cfg.optim_args.momentum)\n",
    "else:\n",
    "    optimizer = torch.optim.AdamW(\n",
    "            model.parameters(),\n",
    "            lr=cfg.optim_args.learning_rate,\n",
    "            weight_decay=cfg.optim_args.weight_decay,\n",
    "            betas=(0.9, 0.95),\n",
    "            eps=1e-8)"
   ]
  },
  {
   "cell_type": "code",
   "execution_count": 43,
   "metadata": {},
   "outputs": [],
   "source": [
    "# a test batch for experimentation\n",
    "x_exp, out_exp = ds.gen_batch(np.random.default_rng(0), 128)\n",
    "x_exp = x_exp[:,:ds.seq_length]\n",
    "\n",
    "# OOD test data\n",
    "x_test, out_test = ds_test.gen_batch(np.random.default_rng(0), 512)\n",
    "x_t = torch.from_numpy(x_test[:,:ds.seq_length]).to(device)\n",
    "y_t = torch.from_numpy(x_test[:,1:ds.seq_length + 1]).to(device)\n",
    "outs_t = torch.from_numpy(out_test[:,:ds.seq_length]).to(device)\n",
    "\n",
    "t = time.time()\n",
    "t0 = t\n",
    "res = []"
   ]
  },
  {
   "cell_type": "code",
   "execution_count": 44,
   "metadata": {},
   "outputs": [
    {
     "name": "stdout",
     "output_type": "stream",
     "text": [
      "\n",
      "None\n"
     ]
    }
   ],
   "source": [
    "print(cfg.root_dir)\n",
    "print(cfg.save_dir)"
   ]
  },
  {
   "cell_type": "code",
   "execution_count": 45,
   "metadata": {},
   "outputs": [],
   "source": [
    "cfg.save_dir=(\"./logs\")"
   ]
  },
  {
   "cell_type": "code",
   "execution_count": null,
   "metadata": {},
   "outputs": [],
   "source": [
    "if cfg.save_dir is not None:\n",
    "    outdir = Path(cfg.root_dir) / Path(cfg.save_dir)\n",
    "    outdir.mkdir(parents=True, exist_ok=True)\n",
    "    # save params\n",
    "    with open(outdir / 'params.json', 'w') as f:\n",
    "        json.dump(dict(cfg), f, sort_keys=True, indent=4)\n"
   ]
  },
  {
   "cell_type": "code",
   "execution_count": 47,
   "metadata": {},
   "outputs": [],
   "source": [
    "outfile = open(outdir / 'res.jsonl', 'w')"
   ]
  },
  {
   "cell_type": "markdown",
   "metadata": {},
   "source": [
    "Extract from paper: \n",
    "We train our models using mini-batch SGD with momentum, where each\n",
    "batch consists of 512 fresh sequences of length T = 256 sampled from our synthetic model. We use\n",
    "a fixed learning rate and weight decay. Hyperparameters are given in Appendix E. Unless otherwise\n",
    "noted, we use d = 128, random triggers with πq = πu and uniform output tokens. The reported\n",
    "accuracies and losses are computed over each fresh batch before it is used for optimization, and\n",
    "are averaged over relevant tokens: “in-context accuracy/loss” numbers only consider predictions\n",
    "of output tokens on triggers starting at the second occurrence (the first is non-deterministic), while\n",
    "“global loss” refers to average loss on non-trigger tokens.\n"
   ]
  },
  {
   "cell_type": "code",
   "execution_count": 48,
   "metadata": {},
   "outputs": [
    {
     "name": "stdout",
     "output_type": "stream",
     "text": [
      "None\n"
     ]
    }
   ],
   "source": [
    "print(cfg.max_iters)"
   ]
  },
  {
   "cell_type": "code",
   "execution_count": 26,
   "metadata": {},
   "outputs": [],
   "source": [
    "cfg.max_iters =1000\n",
    "cfg.eval_delta = 5\n",
    "# number of triggers\n",
    "cfg.data_args.k = 2\n"
   ]
  },
  {
   "cell_type": "code",
   "execution_count": null,
   "metadata": {},
   "outputs": [],
   "source": [
    "data_args.k=5 data_args.fixed_special_toks=True \\\n",
    "        optim_args.use_sgd=True optim_args.learning_rate=0.03 optim_args.weight_decay=1e-4 optim_args.batch_size=512 \\\n",
    "        model_args.final_ffn=False model_args.freeze_embeddings=True model_args.freeze_output=True model_args.dim=256"
   ]
  },
  {
   "cell_type": "code",
   "execution_count": 51,
   "metadata": {},
   "outputs": [
    {
     "name": "stdout",
     "output_type": "stream",
     "text": [
      "{'optim_args': {'learning_rate': 0.2, 'weight_decay': 0.0001, 'momentum': 0.9, 'batch_size': 512, 'use_sgd': True}, 'data_args': {'k': 0, 'seq_length': 256, 'show_latents': False, 'fixed_special_toks': False, 'special_toks_offset': 0, 'output_counter': True, 'no_repeat': False}, 'model_args': {'vocab_size': 65, 'dim': 64, 'max_length': 256, 'final_ffn': False, 'first_ffn': False, 'linear_final_ffn': True, 'linear_first_ffn': True, 'freeze_embeddings': False, 'freeze_output': False, 'tie_output': False, 'use_rope': False, 'sqrtd_embeddings': False, 'no_sqrtd': False, 'sin_cos': False}, 'max_iters': None, 'eval_delta': 5, 'log_norms': False, 'log_probes': False, 'freeze_until': '300:layers.1.attention.wo.weight', 'loss_head_only': True, 'bigram_outs_train': False, 'bigram_outs_test': False, 'num_data_workers': 60, 'seed': 42, 'save_dir': './logs', 'root_dir': ''}\n"
     ]
    }
   ],
   "source": [
    "print(cfg)"
   ]
  },
  {
   "cell_type": "code",
   "execution_count": 50,
   "metadata": {},
   "outputs": [
    {
     "ename": "ConfigAttributeError",
     "evalue": "Key 'fixed_special_tokens' not in 'DataArgs'\n    full_key: data_args.fixed_special_tokens\n    reference_type=DataArgs\n    object_type=DataArgs",
     "output_type": "error",
     "traceback": [
      "\u001b[0;31m---------------------------------------------------------------------------\u001b[0m",
      "\u001b[0;31mConfigAttributeError\u001b[0m                      Traceback (most recent call last)",
      "Cell \u001b[0;32mIn[50], line 1\u001b[0m\n\u001b[0;32m----> 1\u001b[0m \u001b[38;5;28mprint\u001b[39m(\u001b[38;5;124mf\u001b[39m\u001b[38;5;124m\"\u001b[39m\u001b[38;5;132;01m{\u001b[39;00m\u001b[43mcfg\u001b[49m\u001b[38;5;241;43m.\u001b[39;49m\u001b[43mdata_args\u001b[49m\u001b[38;5;241;43m.\u001b[39;49m\u001b[43mfixed_special_tokens\u001b[49m\u001b[38;5;132;01m=}\u001b[39;00m\u001b[38;5;124m\"\u001b[39m)\n\u001b[1;32m      2\u001b[0m \u001b[38;5;28mprint\u001b[39m(\u001b[38;5;124mf\u001b[39m\u001b[38;5;124m\"\u001b[39m\u001b[38;5;132;01m{\u001b[39;00mcfg\u001b[38;5;241m.\u001b[39muse_sgd\u001b[38;5;132;01m=}\u001b[39;00m\u001b[38;5;124m\"\u001b[39m)\n\u001b[1;32m      3\u001b[0m \u001b[38;5;28mprint\u001b[39m(\u001b[38;5;124mf\u001b[39m\u001b[38;5;124m\"\u001b[39m\u001b[38;5;132;01m{\u001b[39;00mcfg\u001b[38;5;241m.\u001b[39mlearning_rate\u001b[38;5;132;01m=}\u001b[39;00m\u001b[38;5;124m\"\u001b[39m)\n",
      "File \u001b[0;32m~/altegrad/venv_altegrad/lib/python3.10/site-packages/omegaconf/dictconfig.py:359\u001b[0m, in \u001b[0;36mDictConfig.__getattr__\u001b[0;34m(self, key)\u001b[0m\n\u001b[1;32m    355\u001b[0m     \u001b[38;5;28mself\u001b[39m\u001b[38;5;241m.\u001b[39m_format_and_raise(\n\u001b[1;32m    356\u001b[0m         key\u001b[38;5;241m=\u001b[39mkey, value\u001b[38;5;241m=\u001b[39m\u001b[38;5;28;01mNone\u001b[39;00m, cause\u001b[38;5;241m=\u001b[39me, type_override\u001b[38;5;241m=\u001b[39mConfigAttributeError\n\u001b[1;32m    357\u001b[0m     )\n\u001b[1;32m    358\u001b[0m \u001b[38;5;28;01mexcept\u001b[39;00m \u001b[38;5;167;01mException\u001b[39;00m \u001b[38;5;28;01mas\u001b[39;00m e:\n\u001b[0;32m--> 359\u001b[0m     \u001b[38;5;28;43mself\u001b[39;49m\u001b[38;5;241;43m.\u001b[39;49m\u001b[43m_format_and_raise\u001b[49m\u001b[43m(\u001b[49m\u001b[43mkey\u001b[49m\u001b[38;5;241;43m=\u001b[39;49m\u001b[43mkey\u001b[49m\u001b[43m,\u001b[49m\u001b[43m \u001b[49m\u001b[43mvalue\u001b[49m\u001b[38;5;241;43m=\u001b[39;49m\u001b[38;5;28;43;01mNone\u001b[39;49;00m\u001b[43m,\u001b[49m\u001b[43m \u001b[49m\u001b[43mcause\u001b[49m\u001b[38;5;241;43m=\u001b[39;49m\u001b[43me\u001b[49m\u001b[43m)\u001b[49m\n",
      "File \u001b[0;32m~/altegrad/venv_altegrad/lib/python3.10/site-packages/omegaconf/base.py:231\u001b[0m, in \u001b[0;36mNode._format_and_raise\u001b[0;34m(self, key, value, cause, msg, type_override)\u001b[0m\n\u001b[1;32m    223\u001b[0m \u001b[38;5;28;01mdef\u001b[39;00m\u001b[38;5;250m \u001b[39m\u001b[38;5;21m_format_and_raise\u001b[39m(\n\u001b[1;32m    224\u001b[0m     \u001b[38;5;28mself\u001b[39m,\n\u001b[1;32m    225\u001b[0m     key: Any,\n\u001b[0;32m   (...)\u001b[0m\n\u001b[1;32m    229\u001b[0m     type_override: Any \u001b[38;5;241m=\u001b[39m \u001b[38;5;28;01mNone\u001b[39;00m,\n\u001b[1;32m    230\u001b[0m ) \u001b[38;5;241m-\u001b[39m\u001b[38;5;241m>\u001b[39m \u001b[38;5;28;01mNone\u001b[39;00m:\n\u001b[0;32m--> 231\u001b[0m     \u001b[43mformat_and_raise\u001b[49m\u001b[43m(\u001b[49m\n\u001b[1;32m    232\u001b[0m \u001b[43m        \u001b[49m\u001b[43mnode\u001b[49m\u001b[38;5;241;43m=\u001b[39;49m\u001b[38;5;28;43mself\u001b[39;49m\u001b[43m,\u001b[49m\n\u001b[1;32m    233\u001b[0m \u001b[43m        \u001b[49m\u001b[43mkey\u001b[49m\u001b[38;5;241;43m=\u001b[39;49m\u001b[43mkey\u001b[49m\u001b[43m,\u001b[49m\n\u001b[1;32m    234\u001b[0m \u001b[43m        \u001b[49m\u001b[43mvalue\u001b[49m\u001b[38;5;241;43m=\u001b[39;49m\u001b[43mvalue\u001b[49m\u001b[43m,\u001b[49m\n\u001b[1;32m    235\u001b[0m \u001b[43m        \u001b[49m\u001b[43mmsg\u001b[49m\u001b[38;5;241;43m=\u001b[39;49m\u001b[38;5;28;43mstr\u001b[39;49m\u001b[43m(\u001b[49m\u001b[43mcause\u001b[49m\u001b[43m)\u001b[49m\u001b[43m \u001b[49m\u001b[38;5;28;43;01mif\u001b[39;49;00m\u001b[43m \u001b[49m\u001b[43mmsg\u001b[49m\u001b[43m \u001b[49m\u001b[38;5;129;43;01mis\u001b[39;49;00m\u001b[43m \u001b[49m\u001b[38;5;28;43;01mNone\u001b[39;49;00m\u001b[43m \u001b[49m\u001b[38;5;28;43;01melse\u001b[39;49;00m\u001b[43m \u001b[49m\u001b[43mmsg\u001b[49m\u001b[43m,\u001b[49m\n\u001b[1;32m    236\u001b[0m \u001b[43m        \u001b[49m\u001b[43mcause\u001b[49m\u001b[38;5;241;43m=\u001b[39;49m\u001b[43mcause\u001b[49m\u001b[43m,\u001b[49m\n\u001b[1;32m    237\u001b[0m \u001b[43m        \u001b[49m\u001b[43mtype_override\u001b[49m\u001b[38;5;241;43m=\u001b[39;49m\u001b[43mtype_override\u001b[49m\u001b[43m,\u001b[49m\n\u001b[1;32m    238\u001b[0m \u001b[43m    \u001b[49m\u001b[43m)\u001b[49m\n\u001b[1;32m    239\u001b[0m     \u001b[38;5;28;01massert\u001b[39;00m \u001b[38;5;28;01mFalse\u001b[39;00m\n",
      "File \u001b[0;32m~/altegrad/venv_altegrad/lib/python3.10/site-packages/omegaconf/_utils.py:819\u001b[0m, in \u001b[0;36mformat_and_raise\u001b[0;34m(node, key, value, msg, cause, type_override)\u001b[0m\n\u001b[1;32m    817\u001b[0m         ex \u001b[38;5;241m=\u001b[39m type_override(\u001b[38;5;28mstr\u001b[39m(cause))\n\u001b[1;32m    818\u001b[0m         ex\u001b[38;5;241m.\u001b[39m\u001b[38;5;18m__dict__\u001b[39m \u001b[38;5;241m=\u001b[39m copy\u001b[38;5;241m.\u001b[39mdeepcopy(cause\u001b[38;5;241m.\u001b[39m\u001b[38;5;18m__dict__\u001b[39m)\n\u001b[0;32m--> 819\u001b[0m     \u001b[43m_raise\u001b[49m\u001b[43m(\u001b[49m\u001b[43mex\u001b[49m\u001b[43m,\u001b[49m\u001b[43m \u001b[49m\u001b[43mcause\u001b[49m\u001b[43m)\u001b[49m\n\u001b[1;32m    821\u001b[0m object_type: Optional[Type[Any]]\n\u001b[1;32m    822\u001b[0m object_type_str: Optional[\u001b[38;5;28mstr\u001b[39m] \u001b[38;5;241m=\u001b[39m \u001b[38;5;28;01mNone\u001b[39;00m\n",
      "File \u001b[0;32m~/altegrad/venv_altegrad/lib/python3.10/site-packages/omegaconf/_utils.py:797\u001b[0m, in \u001b[0;36m_raise\u001b[0;34m(ex, cause)\u001b[0m\n\u001b[1;32m    795\u001b[0m \u001b[38;5;28;01melse\u001b[39;00m:\n\u001b[1;32m    796\u001b[0m     ex\u001b[38;5;241m.\u001b[39m__cause__ \u001b[38;5;241m=\u001b[39m \u001b[38;5;28;01mNone\u001b[39;00m\n\u001b[0;32m--> 797\u001b[0m \u001b[38;5;28;01mraise\u001b[39;00m ex\u001b[38;5;241m.\u001b[39mwith_traceback(sys\u001b[38;5;241m.\u001b[39mexc_info()[\u001b[38;5;241m2\u001b[39m])\n",
      "File \u001b[0;32m~/altegrad/venv_altegrad/lib/python3.10/site-packages/omegaconf/dictconfig.py:351\u001b[0m, in \u001b[0;36mDictConfig.__getattr__\u001b[0;34m(self, key)\u001b[0m\n\u001b[1;32m    348\u001b[0m     \u001b[38;5;28;01mraise\u001b[39;00m \u001b[38;5;167;01mAttributeError\u001b[39;00m()\n\u001b[1;32m    350\u001b[0m \u001b[38;5;28;01mtry\u001b[39;00m:\n\u001b[0;32m--> 351\u001b[0m     \u001b[38;5;28;01mreturn\u001b[39;00m \u001b[38;5;28;43mself\u001b[39;49m\u001b[38;5;241;43m.\u001b[39;49m\u001b[43m_get_impl\u001b[49m\u001b[43m(\u001b[49m\n\u001b[1;32m    352\u001b[0m \u001b[43m        \u001b[49m\u001b[43mkey\u001b[49m\u001b[38;5;241;43m=\u001b[39;49m\u001b[43mkey\u001b[49m\u001b[43m,\u001b[49m\u001b[43m \u001b[49m\u001b[43mdefault_value\u001b[49m\u001b[38;5;241;43m=\u001b[39;49m\u001b[43m_DEFAULT_MARKER_\u001b[49m\u001b[43m,\u001b[49m\u001b[43m \u001b[49m\u001b[43mvalidate_key\u001b[49m\u001b[38;5;241;43m=\u001b[39;49m\u001b[38;5;28;43;01mFalse\u001b[39;49;00m\n\u001b[1;32m    353\u001b[0m \u001b[43m    \u001b[49m\u001b[43m)\u001b[49m\n\u001b[1;32m    354\u001b[0m \u001b[38;5;28;01mexcept\u001b[39;00m ConfigKeyError \u001b[38;5;28;01mas\u001b[39;00m e:\n\u001b[1;32m    355\u001b[0m     \u001b[38;5;28mself\u001b[39m\u001b[38;5;241m.\u001b[39m_format_and_raise(\n\u001b[1;32m    356\u001b[0m         key\u001b[38;5;241m=\u001b[39mkey, value\u001b[38;5;241m=\u001b[39m\u001b[38;5;28;01mNone\u001b[39;00m, cause\u001b[38;5;241m=\u001b[39me, type_override\u001b[38;5;241m=\u001b[39mConfigAttributeError\n\u001b[1;32m    357\u001b[0m     )\n",
      "File \u001b[0;32m~/altegrad/venv_altegrad/lib/python3.10/site-packages/omegaconf/dictconfig.py:442\u001b[0m, in \u001b[0;36mDictConfig._get_impl\u001b[0;34m(self, key, default_value, validate_key)\u001b[0m\n\u001b[1;32m    438\u001b[0m \u001b[38;5;28;01mdef\u001b[39;00m\u001b[38;5;250m \u001b[39m\u001b[38;5;21m_get_impl\u001b[39m(\n\u001b[1;32m    439\u001b[0m     \u001b[38;5;28mself\u001b[39m, key: DictKeyType, default_value: Any, validate_key: \u001b[38;5;28mbool\u001b[39m \u001b[38;5;241m=\u001b[39m \u001b[38;5;28;01mTrue\u001b[39;00m\n\u001b[1;32m    440\u001b[0m ) \u001b[38;5;241m-\u001b[39m\u001b[38;5;241m>\u001b[39m Any:\n\u001b[1;32m    441\u001b[0m     \u001b[38;5;28;01mtry\u001b[39;00m:\n\u001b[0;32m--> 442\u001b[0m         node \u001b[38;5;241m=\u001b[39m \u001b[38;5;28;43mself\u001b[39;49m\u001b[38;5;241;43m.\u001b[39;49m\u001b[43m_get_child\u001b[49m\u001b[43m(\u001b[49m\n\u001b[1;32m    443\u001b[0m \u001b[43m            \u001b[49m\u001b[43mkey\u001b[49m\u001b[38;5;241;43m=\u001b[39;49m\u001b[43mkey\u001b[49m\u001b[43m,\u001b[49m\u001b[43m \u001b[49m\u001b[43mthrow_on_missing_key\u001b[49m\u001b[38;5;241;43m=\u001b[39;49m\u001b[38;5;28;43;01mTrue\u001b[39;49;00m\u001b[43m,\u001b[49m\u001b[43m \u001b[49m\u001b[43mvalidate_key\u001b[49m\u001b[38;5;241;43m=\u001b[39;49m\u001b[43mvalidate_key\u001b[49m\n\u001b[1;32m    444\u001b[0m \u001b[43m        \u001b[49m\u001b[43m)\u001b[49m\n\u001b[1;32m    445\u001b[0m     \u001b[38;5;28;01mexcept\u001b[39;00m (ConfigAttributeError, ConfigKeyError):\n\u001b[1;32m    446\u001b[0m         \u001b[38;5;28;01mif\u001b[39;00m default_value \u001b[38;5;129;01mis\u001b[39;00m \u001b[38;5;129;01mnot\u001b[39;00m _DEFAULT_MARKER_:\n",
      "File \u001b[0;32m~/altegrad/venv_altegrad/lib/python3.10/site-packages/omegaconf/basecontainer.py:73\u001b[0m, in \u001b[0;36mBaseContainer._get_child\u001b[0;34m(self, key, validate_access, validate_key, throw_on_missing_value, throw_on_missing_key)\u001b[0m\n\u001b[1;32m     64\u001b[0m \u001b[38;5;28;01mdef\u001b[39;00m\u001b[38;5;250m \u001b[39m\u001b[38;5;21m_get_child\u001b[39m(\n\u001b[1;32m     65\u001b[0m     \u001b[38;5;28mself\u001b[39m,\n\u001b[1;32m     66\u001b[0m     key: Any,\n\u001b[0;32m   (...)\u001b[0m\n\u001b[1;32m     70\u001b[0m     throw_on_missing_key: \u001b[38;5;28mbool\u001b[39m \u001b[38;5;241m=\u001b[39m \u001b[38;5;28;01mFalse\u001b[39;00m,\n\u001b[1;32m     71\u001b[0m ) \u001b[38;5;241m-\u001b[39m\u001b[38;5;241m>\u001b[39m Union[Optional[Node], List[Optional[Node]]]:\n\u001b[1;32m     72\u001b[0m \u001b[38;5;250m    \u001b[39m\u001b[38;5;124;03m\"\"\"Like _get_node, passing through to the nearest concrete Node.\"\"\"\u001b[39;00m\n\u001b[0;32m---> 73\u001b[0m     child \u001b[38;5;241m=\u001b[39m \u001b[38;5;28;43mself\u001b[39;49m\u001b[38;5;241;43m.\u001b[39;49m\u001b[43m_get_node\u001b[49m\u001b[43m(\u001b[49m\n\u001b[1;32m     74\u001b[0m \u001b[43m        \u001b[49m\u001b[43mkey\u001b[49m\u001b[38;5;241;43m=\u001b[39;49m\u001b[43mkey\u001b[49m\u001b[43m,\u001b[49m\n\u001b[1;32m     75\u001b[0m \u001b[43m        \u001b[49m\u001b[43mvalidate_access\u001b[49m\u001b[38;5;241;43m=\u001b[39;49m\u001b[43mvalidate_access\u001b[49m\u001b[43m,\u001b[49m\n\u001b[1;32m     76\u001b[0m \u001b[43m        \u001b[49m\u001b[43mvalidate_key\u001b[49m\u001b[38;5;241;43m=\u001b[39;49m\u001b[43mvalidate_key\u001b[49m\u001b[43m,\u001b[49m\n\u001b[1;32m     77\u001b[0m \u001b[43m        \u001b[49m\u001b[43mthrow_on_missing_value\u001b[49m\u001b[38;5;241;43m=\u001b[39;49m\u001b[43mthrow_on_missing_value\u001b[49m\u001b[43m,\u001b[49m\n\u001b[1;32m     78\u001b[0m \u001b[43m        \u001b[49m\u001b[43mthrow_on_missing_key\u001b[49m\u001b[38;5;241;43m=\u001b[39;49m\u001b[43mthrow_on_missing_key\u001b[49m\u001b[43m,\u001b[49m\n\u001b[1;32m     79\u001b[0m \u001b[43m    \u001b[49m\u001b[43m)\u001b[49m\n\u001b[1;32m     80\u001b[0m     \u001b[38;5;28;01mif\u001b[39;00m \u001b[38;5;28misinstance\u001b[39m(child, UnionNode) \u001b[38;5;129;01mand\u001b[39;00m \u001b[38;5;129;01mnot\u001b[39;00m _is_special(child):\n\u001b[1;32m     81\u001b[0m         value \u001b[38;5;241m=\u001b[39m child\u001b[38;5;241m.\u001b[39m_value()\n",
      "File \u001b[0;32m~/altegrad/venv_altegrad/lib/python3.10/site-packages/omegaconf/dictconfig.py:475\u001b[0m, in \u001b[0;36mDictConfig._get_node\u001b[0;34m(self, key, validate_access, validate_key, throw_on_missing_value, throw_on_missing_key)\u001b[0m\n\u001b[1;32m    472\u001b[0m             \u001b[38;5;28;01mreturn\u001b[39;00m \u001b[38;5;28;01mNone\u001b[39;00m\n\u001b[1;32m    474\u001b[0m \u001b[38;5;28;01mif\u001b[39;00m validate_access:\n\u001b[0;32m--> 475\u001b[0m     \u001b[38;5;28;43mself\u001b[39;49m\u001b[38;5;241;43m.\u001b[39;49m\u001b[43m_validate_get\u001b[49m\u001b[43m(\u001b[49m\u001b[43mkey\u001b[49m\u001b[43m)\u001b[49m\n\u001b[1;32m    477\u001b[0m value: Optional[Node] \u001b[38;5;241m=\u001b[39m \u001b[38;5;28mself\u001b[39m\u001b[38;5;241m.\u001b[39m\u001b[38;5;18m__dict__\u001b[39m[\u001b[38;5;124m\"\u001b[39m\u001b[38;5;124m_content\u001b[39m\u001b[38;5;124m\"\u001b[39m]\u001b[38;5;241m.\u001b[39mget(key)\n\u001b[1;32m    478\u001b[0m \u001b[38;5;28;01mif\u001b[39;00m value \u001b[38;5;129;01mis\u001b[39;00m \u001b[38;5;28;01mNone\u001b[39;00m:\n",
      "File \u001b[0;32m~/altegrad/venv_altegrad/lib/python3.10/site-packages/omegaconf/dictconfig.py:164\u001b[0m, in \u001b[0;36mDictConfig._validate_get\u001b[0;34m(self, key, value)\u001b[0m\n\u001b[1;32m    162\u001b[0m \u001b[38;5;28;01melse\u001b[39;00m:\n\u001b[1;32m    163\u001b[0m     msg \u001b[38;5;241m=\u001b[39m \u001b[38;5;124mf\u001b[39m\u001b[38;5;124m\"\u001b[39m\u001b[38;5;124mKey \u001b[39m\u001b[38;5;124m'\u001b[39m\u001b[38;5;132;01m{\u001b[39;00mkey\u001b[38;5;132;01m}\u001b[39;00m\u001b[38;5;124m'\u001b[39m\u001b[38;5;124m is not in struct\u001b[39m\u001b[38;5;124m\"\u001b[39m\n\u001b[0;32m--> 164\u001b[0m \u001b[38;5;28;43mself\u001b[39;49m\u001b[38;5;241;43m.\u001b[39;49m\u001b[43m_format_and_raise\u001b[49m\u001b[43m(\u001b[49m\n\u001b[1;32m    165\u001b[0m \u001b[43m    \u001b[49m\u001b[43mkey\u001b[49m\u001b[38;5;241;43m=\u001b[39;49m\u001b[43mkey\u001b[49m\u001b[43m,\u001b[49m\u001b[43m \u001b[49m\u001b[43mvalue\u001b[49m\u001b[38;5;241;43m=\u001b[39;49m\u001b[43mvalue\u001b[49m\u001b[43m,\u001b[49m\u001b[43m \u001b[49m\u001b[43mcause\u001b[49m\u001b[38;5;241;43m=\u001b[39;49m\u001b[43mConfigAttributeError\u001b[49m\u001b[43m(\u001b[49m\u001b[43mmsg\u001b[49m\u001b[43m)\u001b[49m\n\u001b[1;32m    166\u001b[0m \u001b[43m\u001b[49m\u001b[43m)\u001b[49m\n",
      "File \u001b[0;32m~/altegrad/venv_altegrad/lib/python3.10/site-packages/omegaconf/base.py:231\u001b[0m, in \u001b[0;36mNode._format_and_raise\u001b[0;34m(self, key, value, cause, msg, type_override)\u001b[0m\n\u001b[1;32m    223\u001b[0m \u001b[38;5;28;01mdef\u001b[39;00m\u001b[38;5;250m \u001b[39m\u001b[38;5;21m_format_and_raise\u001b[39m(\n\u001b[1;32m    224\u001b[0m     \u001b[38;5;28mself\u001b[39m,\n\u001b[1;32m    225\u001b[0m     key: Any,\n\u001b[0;32m   (...)\u001b[0m\n\u001b[1;32m    229\u001b[0m     type_override: Any \u001b[38;5;241m=\u001b[39m \u001b[38;5;28;01mNone\u001b[39;00m,\n\u001b[1;32m    230\u001b[0m ) \u001b[38;5;241m-\u001b[39m\u001b[38;5;241m>\u001b[39m \u001b[38;5;28;01mNone\u001b[39;00m:\n\u001b[0;32m--> 231\u001b[0m     \u001b[43mformat_and_raise\u001b[49m\u001b[43m(\u001b[49m\n\u001b[1;32m    232\u001b[0m \u001b[43m        \u001b[49m\u001b[43mnode\u001b[49m\u001b[38;5;241;43m=\u001b[39;49m\u001b[38;5;28;43mself\u001b[39;49m\u001b[43m,\u001b[49m\n\u001b[1;32m    233\u001b[0m \u001b[43m        \u001b[49m\u001b[43mkey\u001b[49m\u001b[38;5;241;43m=\u001b[39;49m\u001b[43mkey\u001b[49m\u001b[43m,\u001b[49m\n\u001b[1;32m    234\u001b[0m \u001b[43m        \u001b[49m\u001b[43mvalue\u001b[49m\u001b[38;5;241;43m=\u001b[39;49m\u001b[43mvalue\u001b[49m\u001b[43m,\u001b[49m\n\u001b[1;32m    235\u001b[0m \u001b[43m        \u001b[49m\u001b[43mmsg\u001b[49m\u001b[38;5;241;43m=\u001b[39;49m\u001b[38;5;28;43mstr\u001b[39;49m\u001b[43m(\u001b[49m\u001b[43mcause\u001b[49m\u001b[43m)\u001b[49m\u001b[43m \u001b[49m\u001b[38;5;28;43;01mif\u001b[39;49;00m\u001b[43m \u001b[49m\u001b[43mmsg\u001b[49m\u001b[43m \u001b[49m\u001b[38;5;129;43;01mis\u001b[39;49;00m\u001b[43m \u001b[49m\u001b[38;5;28;43;01mNone\u001b[39;49;00m\u001b[43m \u001b[49m\u001b[38;5;28;43;01melse\u001b[39;49;00m\u001b[43m \u001b[49m\u001b[43mmsg\u001b[49m\u001b[43m,\u001b[49m\n\u001b[1;32m    236\u001b[0m \u001b[43m        \u001b[49m\u001b[43mcause\u001b[49m\u001b[38;5;241;43m=\u001b[39;49m\u001b[43mcause\u001b[49m\u001b[43m,\u001b[49m\n\u001b[1;32m    237\u001b[0m \u001b[43m        \u001b[49m\u001b[43mtype_override\u001b[49m\u001b[38;5;241;43m=\u001b[39;49m\u001b[43mtype_override\u001b[49m\u001b[43m,\u001b[49m\n\u001b[1;32m    238\u001b[0m \u001b[43m    \u001b[49m\u001b[43m)\u001b[49m\n\u001b[1;32m    239\u001b[0m     \u001b[38;5;28;01massert\u001b[39;00m \u001b[38;5;28;01mFalse\u001b[39;00m\n",
      "File \u001b[0;32m~/altegrad/venv_altegrad/lib/python3.10/site-packages/omegaconf/_utils.py:899\u001b[0m, in \u001b[0;36mformat_and_raise\u001b[0;34m(node, key, value, msg, cause, type_override)\u001b[0m\n\u001b[1;32m    896\u001b[0m     ex\u001b[38;5;241m.\u001b[39mref_type \u001b[38;5;241m=\u001b[39m ref_type\n\u001b[1;32m    897\u001b[0m     ex\u001b[38;5;241m.\u001b[39mref_type_str \u001b[38;5;241m=\u001b[39m ref_type_str\n\u001b[0;32m--> 899\u001b[0m \u001b[43m_raise\u001b[49m\u001b[43m(\u001b[49m\u001b[43mex\u001b[49m\u001b[43m,\u001b[49m\u001b[43m \u001b[49m\u001b[43mcause\u001b[49m\u001b[43m)\u001b[49m\n",
      "File \u001b[0;32m~/altegrad/venv_altegrad/lib/python3.10/site-packages/omegaconf/_utils.py:797\u001b[0m, in \u001b[0;36m_raise\u001b[0;34m(ex, cause)\u001b[0m\n\u001b[1;32m    795\u001b[0m \u001b[38;5;28;01melse\u001b[39;00m:\n\u001b[1;32m    796\u001b[0m     ex\u001b[38;5;241m.\u001b[39m__cause__ \u001b[38;5;241m=\u001b[39m \u001b[38;5;28;01mNone\u001b[39;00m\n\u001b[0;32m--> 797\u001b[0m \u001b[38;5;28;01mraise\u001b[39;00m ex\u001b[38;5;241m.\u001b[39mwith_traceback(sys\u001b[38;5;241m.\u001b[39mexc_info()[\u001b[38;5;241m2\u001b[39m])\n",
      "\u001b[0;31mConfigAttributeError\u001b[0m: Key 'fixed_special_tokens' not in 'DataArgs'\n    full_key: data_args.fixed_special_tokens\n    reference_type=DataArgs\n    object_type=DataArgs"
     ]
    }
   ],
   "source": [
    "print(f\"{cfg.data_args.fixed_special_tokens=}\")\n",
    "print(f\"{cfg.use_sgd=}\")\n",
    "print(f\"{cfg.learning_rate=}\")\n",
    "print(f\"{cfg.weight_decay=}\")\n",
    "print(f\"{cfg.batch_size=}\")"
   ]
  },
  {
   "cell_type": "code",
   "execution_count": 27,
   "metadata": {},
   "outputs": [
    {
     "name": "stdout",
     "output_type": "stream",
     "text": [
      "Epoch 0/1000\n"
     ]
    },
    {
     "ename": "ZeroDivisionError",
     "evalue": "float division by zero",
     "output_type": "error",
     "traceback": [
      "\u001b[0;31m---------------------------------------------------------------------------\u001b[0m",
      "\u001b[0;31mZeroDivisionError\u001b[0m                         Traceback (most recent call last)",
      "Cell \u001b[0;32mIn[27], line 62\u001b[0m\n\u001b[1;32m     60\u001b[0m i2 \u001b[38;5;241m=\u001b[39m i2[amax2 \u001b[38;5;241m>\u001b[39m\u001b[38;5;241m=\u001b[39m \u001b[38;5;241m1\u001b[39m]\n\u001b[1;32m     61\u001b[0m amax2 \u001b[38;5;241m=\u001b[39m amax2[amax2 \u001b[38;5;241m>\u001b[39m\u001b[38;5;241m=\u001b[39m \u001b[38;5;241m1\u001b[39m]\n\u001b[0;32m---> 62\u001b[0m score2_acc \u001b[38;5;241m=\u001b[39m \u001b[43m(\u001b[49m\u001b[43mx\u001b[49m\u001b[43m[\u001b[49m\u001b[43mi1\u001b[49m\u001b[43m,\u001b[49m\u001b[43m \u001b[49m\u001b[43mamax2\u001b[49m\u001b[43m \u001b[49m\u001b[38;5;241;43m-\u001b[39;49m\u001b[43m \u001b[49m\u001b[38;5;241;43m1\u001b[39;49m\u001b[43m]\u001b[49m\u001b[43m \u001b[49m\u001b[38;5;241;43m==\u001b[39;49m\u001b[43m \u001b[49m\u001b[43mx\u001b[49m\u001b[43m[\u001b[49m\u001b[43mi1\u001b[49m\u001b[43m,\u001b[49m\u001b[43m \u001b[49m\u001b[43mi2\u001b[49m\u001b[43m]\u001b[49m\u001b[43m)\u001b[49m\u001b[38;5;241;43m.\u001b[39;49m\u001b[43mfloat\u001b[49m\u001b[43m(\u001b[49m\u001b[43m)\u001b[49m\u001b[38;5;241;43m.\u001b[39;49m\u001b[43msum\u001b[49m\u001b[43m(\u001b[49m\u001b[43m)\u001b[49m\u001b[38;5;241;43m.\u001b[39;49m\u001b[43mitem\u001b[49m\u001b[43m(\u001b[49m\u001b[43m)\u001b[49m\u001b[43m \u001b[49m\u001b[38;5;241;43m/\u001b[39;49m\u001b[43m \u001b[49m\u001b[43mtot\u001b[49m\n\u001b[1;32m     64\u001b[0m \u001b[38;5;66;03m# first layer attn score probe conditioned on locations attended by second layer\u001b[39;00m\n\u001b[1;32m     65\u001b[0m score_cond_acc \u001b[38;5;241m=\u001b[39m (amax[i1, amax2] \u001b[38;5;241m==\u001b[39m amax2 \u001b[38;5;241m-\u001b[39m \u001b[38;5;241m1\u001b[39m)\u001b[38;5;241m.\u001b[39mfloat()\u001b[38;5;241m.\u001b[39mmean()\u001b[38;5;241m.\u001b[39mitem()\n",
      "\u001b[0;31mZeroDivisionError\u001b[0m: float division by zero"
     ]
    }
   ],
   "source": [
    "all_results = []\n",
    "i = 0\n",
    "for i, (x, y, outs) in enumerate(iterate_batches(ds, batch_size=cfg.optim_args.batch_size, seed=cfg.seed)):\n",
    "    print(f\"Epoch {i}/{cfg.max_iters}\")\n",
    "    dt_data = time.time() - t\n",
    "    if cfg.max_iters is not None and i >= cfg.max_iters:\n",
    "        if cfg.save_dir is not None:\n",
    "            outfile.close()\n",
    "        break\n",
    "    \n",
    "    x = torch.from_numpy(x).to(device)\n",
    "    y = torch.from_numpy(y).to(device)\n",
    "    outs = torch.from_numpy(outs).to(device)\n",
    "\n",
    "    if i in freeze_until:  # unfreeze params\n",
    "        for name, p in model.named_parameters():\n",
    "            if name in freeze_until[i]:\n",
    "                p.requires_grad_(True)\n",
    "\n",
    "    optimizer.zero_grad()\n",
    "    pred = model(x)\n",
    "\n",
    "    if cfg.loss_head_only:\n",
    "        loss = F.cross_entropy(pred[outs >= 2], y[outs >= 2])\n",
    "    else:\n",
    "        loss = F.cross_entropy(pred.flatten(0, 1), y.flatten(0, 1))\n",
    "\n",
    "    loss.backward()\n",
    "\n",
    "    optimizer.step()\n",
    "    dt = time.time() - t\n",
    "    t = time.time()\n",
    "\n",
    "    if i % cfg.eval_delta == 0:\n",
    "        if cfg.data_args.k > 0:\n",
    "            acc_tot = (pred.argmax(-1)[outs >= 1] == y[outs >= 1]).float().mean().item()\n",
    "            sl = 10\n",
    "            acc_start = (pred[:,:sl].argmax(-1)[outs[:,:sl] >= 1] == y[:,:sl][outs[:,:sl] >= 1]).float().mean().item()\n",
    "            el = 500\n",
    "            acc_end = (pred[:,-el:].argmax(-1)[outs[:,-el:] >= 2] == y[:,-el:][outs[:,-el:] >= 2]).float().mean().item()\n",
    "            loss_bigram = F.cross_entropy(pred[outs == 0,:], y[outs == 0]).item()\n",
    "            loss_head = F.cross_entropy(pred[outs >= 2,:], y[outs >= 2]).item()\n",
    "\n",
    "            # first layer attn scores probe\n",
    "            i1, i2 = torch.where(outs[:,:-1] >= 1)\n",
    "            i1_start, i2_start = torch.where(outs[:,:-1] == 1)\n",
    "            amax = attn_scores[:,0,:,:].argmax(-1)\n",
    "            score_acc = (amax[i1, i2 + 1] == i2).float().mean().item()\n",
    "            score_start_acc = (amax[i1_start, i2_start + 1] == i2_start).float().mean().item()\n",
    "\n",
    "            # second layer attn scores probe (check that attended token's prev token has correct condition)\n",
    "            i1, i2 = torch.where(outs >= 2)\n",
    "            amax2 = attn_scores2.squeeze(1)[i1,i2,:].argmax(-1)\n",
    "            score2_next_acc = (x[i1, amax2] == y[i1, i2]).float().mean().item()\n",
    "            pred_attended_acc = (x[i1, amax2] == pred[i1,i2].argmax(-1)).float().mean().item()\n",
    "\n",
    "            bad = (amax2 == 0).float().sum()\n",
    "            tot = amax2.shape[0]\n",
    "            i1 = i1[amax2 >= 1]\n",
    "            i2 = i2[amax2 >= 1]\n",
    "            amax2 = amax2[amax2 >= 1]\n",
    "            score2_acc = (x[i1, amax2 - 1] == x[i1, i2]).float().sum().item() / tot\n",
    "\n",
    "            # first layer attn score probe conditioned on locations attended by second layer\n",
    "            score_cond_acc = (amax[i1, amax2] == amax2 - 1).float().mean().item()\n",
    "\n",
    "            # second layer attn score probe conditioned on repeated tokens\n",
    "            i1, i2 = torch.where((outs >= 2) & (x == y))\n",
    "            amax1 = attn_scores.squeeze(1)[i1,i2,:].argmax(-1)\n",
    "            score1_repeat_val_acc = (x[i1, amax1] == y[i1, i2]).float().mean().item()\n",
    "            amax2 = attn_scores2.squeeze(1)[i1,i2,:].argmax(-1)\n",
    "            score2_repeat_val_acc = (x[i1, amax2] == y[i1, i2]).float().mean().item()\n",
    "            # score2_repeat_prev_acc = (amax2 == i2 - 1).float().mean().item()\n",
    "\n",
    "            if True:  # cfg.log_probes:\n",
    "                wo1_acc = test_wo1()\n",
    "                if cfg.model_args.final_ffn:\n",
    "                    ff1_loss = test_ff1()\n",
    "                else:\n",
    "                    ff1_loss = -1\n",
    "                wk0_acc = test_wk0()\n",
    "                wk0_64_acc = test_wk0(cutoff=64)\n",
    "                wk1_acc = test_wk1()\n",
    "\n",
    "            repeat_frac = (x[outs >= 1] == y[outs >= 1]).float().mean().item()\n",
    "\n",
    "            # OOD test (NOTE: do this after the probes sinces it messes hooks!)\n",
    "            with torch.no_grad():\n",
    "                pred_t = model(x_t)\n",
    "            acc_end_test = (pred_t[:,-el:].argmax(-1)[outs_t[:,-el:] >= 2] == y_t[:,-el:][outs_t[:,-el:] >= 2]).float().mean().item()\n",
    "\n",
    "            logging.info(\n",
    "                    f'''{i} ({dt_data:.2f}, {dt:.2f}, {t - t0:.2f}): loss: {loss.item():.4f} ({loss_bigram:.4f}, {loss_head:.4f}), \\\n",
    "acc: {acc_tot:.4f} ({acc_end:.4f} / {acc_end_test:.4f}) \\\n",
    "probes: {score_start_acc:.4f} / {score2_acc:.4f} / {score_cond_acc:.4f} / {pred_attended_acc:.4f} ({repeat_frac:.4f})'''\n",
    ")\n",
    "            if cfg.log_probes:\n",
    "                logging.info(f'memory probes wk0: {wk0_acc:.4f} ({wk0_64_acc:.4f}), wk1: {wk1_acc:.4f}, wo1: {wo1_acc:.4f}, ff1: {ff1_loss:.4f}')\n",
    "\n",
    "            curr_res = {'iter': i, 'loss': loss.item(), 'loss_bigram': loss_bigram, 'loss_head': loss_head,\n",
    "                        'acc_tot': acc_tot, 'acc_start': acc_start, 'acc_end': acc_end, 'acc_end_test': acc_end_test,\n",
    "                        'score_acc': score_acc, 'score_start_acc': score_start_acc, 'score2_acc': score2_acc,\n",
    "                        'score_cond_acc': score_cond_acc,\n",
    "                        'pred_attended_acc': pred_attended_acc, 'repeat_frac': repeat_frac,\n",
    "                        'wk0_acc': wk0_acc, 'wk0_64_acc': wk0_64_acc, 'wk1_acc': wk1_acc, 'wo1_acc': wo1_acc, 'ff1_loss': ff1_loss}\n",
    "\n",
    "            for name, p in model.named_parameters():\n",
    "                if p.requires_grad:\n",
    "                    curr_res['norm_' + name] = p.norm().item()\n",
    "                    curr_res['gradnorm_' + name] = p.grad.norm().item()\n",
    "\n",
    "            if cfg.log_norms:\n",
    "                param_norms = {\n",
    "                        'wk': [layer.attention.wk.weight.norm().item() for layer in model.layers],\n",
    "                        'wv': [layer.attention.wv.weight.norm().item() for layer in model.layers],\n",
    "                        'wo': [layer.attention.wo.weight.norm().item() for layer in model.layers],\n",
    "                        }\n",
    "                grad_norms = {\n",
    "                        'wk': [layer.attention.wk.weight.grad.norm().item() for layer in model.layers if layer.attention.wk.weight.requires_grad],\n",
    "                        'wv': [layer.attention.wv.weight.grad.norm().item() for layer in model.layers if layer.attention.wv.weight.requires_grad],\n",
    "                        'wo': [layer.attention.wo.weight.grad.norm().item() for layer in model.layers if layer.attention.wo.weight.requires_grad],\n",
    "                        }\n",
    "                logging.info(repr(param_norms))\n",
    "                logging.info(repr(grad_norms))\n",
    "            all_results.append(curr_res)"
   ]
  },
  {
   "cell_type": "code",
   "execution_count": null,
   "metadata": {},
   "outputs": [],
   "source": [
    "%tb"
   ]
  },
  {
   "cell_type": "code",
   "execution_count": 23,
   "metadata": {},
   "outputs": [
    {
     "ename": "NameError",
     "evalue": "name 'pd' is not defined",
     "output_type": "error",
     "traceback": [
      "\u001b[0;31m---------------------------------------------------------------------------\u001b[0m",
      "\u001b[0;31mNameError\u001b[0m                                 Traceback (most recent call last)",
      "Cell \u001b[0;32mIn[23], line 1\u001b[0m\n\u001b[0;32m----> 1\u001b[0m df\u001b[38;5;241m=\u001b[39m \u001b[43mpd\u001b[49m\u001b[38;5;241m.\u001b[39mDataFrame\u001b[38;5;241m.\u001b[39mfrom_records(all_results)\n\u001b[1;32m      2\u001b[0m df\u001b[38;5;241m.\u001b[39mhead()\n",
      "\u001b[0;31mNameError\u001b[0m: name 'pd' is not defined"
     ]
    }
   ],
   "source": [
    "import pandas as pd\n",
    "df= pd.DataFrame.from_records(all_results)\n",
    "df.head()"
   ]
  },
  {
   "cell_type": "code",
   "execution_count": null,
   "metadata": {},
   "outputs": [],
   "source": [
    "df.to_pickle(\"df.pkl\")"
   ]
  },
  {
   "cell_type": "markdown",
   "metadata": {},
   "source": []
  },
  {
   "cell_type": "code",
   "execution_count": 63,
   "metadata": {},
   "outputs": [],
   "source": [
    "import json"
   ]
  },
  {
   "cell_type": "code",
   "execution_count": 65,
   "metadata": {},
   "outputs": [],
   "source": [
    "with open(\"logs/2025_01_20_21_05_40_res.json\", \"r\") as f:\n",
    "    res = json.load(f)"
   ]
  },
  {
   "cell_type": "code",
   "execution_count": 66,
   "metadata": {},
   "outputs": [],
   "source": [
    "import pandas as pd\n",
    "df = pd.DataFrame.from_records(res)"
   ]
  },
  {
   "cell_type": "code",
   "execution_count": 67,
   "metadata": {},
   "outputs": [
    {
     "data": {
      "text/html": [
       "<div>\n",
       "<style scoped>\n",
       "    .dataframe tbody tr th:only-of-type {\n",
       "        vertical-align: middle;\n",
       "    }\n",
       "\n",
       "    .dataframe tbody tr th {\n",
       "        vertical-align: top;\n",
       "    }\n",
       "\n",
       "    .dataframe thead th {\n",
       "        text-align: right;\n",
       "    }\n",
       "</style>\n",
       "<table border=\"1\" class=\"dataframe\">\n",
       "  <thead>\n",
       "    <tr style=\"text-align: right;\">\n",
       "      <th></th>\n",
       "      <th>iter</th>\n",
       "      <th>loss</th>\n",
       "      <th>loss_bigram</th>\n",
       "      <th>loss_head</th>\n",
       "      <th>acc_tot</th>\n",
       "      <th>acc_start</th>\n",
       "      <th>acc_end</th>\n",
       "      <th>acc_end_test</th>\n",
       "      <th>score_acc</th>\n",
       "      <th>score_start_acc</th>\n",
       "      <th>...</th>\n",
       "      <th>wk0_64_acc</th>\n",
       "      <th>wk1_acc</th>\n",
       "      <th>wo1_acc</th>\n",
       "      <th>ff1_loss</th>\n",
       "      <th>norm_layers.0.attention.wk.weight</th>\n",
       "      <th>gradnorm_layers.0.attention.wk.weight</th>\n",
       "      <th>norm_layers.1.attention.wk.weight</th>\n",
       "      <th>gradnorm_layers.1.attention.wk.weight</th>\n",
       "      <th>norm_layers.1.attention.wo.weight</th>\n",
       "      <th>gradnorm_layers.1.attention.wo.weight</th>\n",
       "    </tr>\n",
       "  </thead>\n",
       "  <tbody>\n",
       "    <tr>\n",
       "      <th>0</th>\n",
       "      <td>0</td>\n",
       "      <td>4.575071</td>\n",
       "      <td>4.450954</td>\n",
       "      <td>4.575071</td>\n",
       "      <td>0.011630</td>\n",
       "      <td>0.009340</td>\n",
       "      <td>0.011863</td>\n",
       "      <td>0.013984</td>\n",
       "      <td>0.021717</td>\n",
       "      <td>0.164777</td>\n",
       "      <td>...</td>\n",
       "      <td>0.031746</td>\n",
       "      <td>0.0</td>\n",
       "      <td>0.046154</td>\n",
       "      <td>-1</td>\n",
       "      <td>9.254825</td>\n",
       "      <td>0.072896</td>\n",
       "      <td>9.249850</td>\n",
       "      <td>0.104189</td>\n",
       "      <td>NaN</td>\n",
       "      <td>NaN</td>\n",
       "    </tr>\n",
       "    <tr>\n",
       "      <th>1</th>\n",
       "      <td>1</td>\n",
       "      <td>4.540353</td>\n",
       "      <td>4.455684</td>\n",
       "      <td>4.540353</td>\n",
       "      <td>0.013311</td>\n",
       "      <td>0.007910</td>\n",
       "      <td>0.013244</td>\n",
       "      <td>0.014061</td>\n",
       "      <td>0.020190</td>\n",
       "      <td>0.164541</td>\n",
       "      <td>...</td>\n",
       "      <td>0.031746</td>\n",
       "      <td>0.0</td>\n",
       "      <td>0.046154</td>\n",
       "      <td>-1</td>\n",
       "      <td>9.254778</td>\n",
       "      <td>0.081149</td>\n",
       "      <td>9.249804</td>\n",
       "      <td>0.119260</td>\n",
       "      <td>NaN</td>\n",
       "      <td>NaN</td>\n",
       "    </tr>\n",
       "    <tr>\n",
       "      <th>2</th>\n",
       "      <td>2</td>\n",
       "      <td>4.599963</td>\n",
       "      <td>4.452395</td>\n",
       "      <td>4.599963</td>\n",
       "      <td>0.012750</td>\n",
       "      <td>0.013734</td>\n",
       "      <td>0.012752</td>\n",
       "      <td>0.014164</td>\n",
       "      <td>0.020342</td>\n",
       "      <td>0.155236</td>\n",
       "      <td>...</td>\n",
       "      <td>0.031746</td>\n",
       "      <td>0.0</td>\n",
       "      <td>0.046154</td>\n",
       "      <td>-1</td>\n",
       "      <td>9.254715</td>\n",
       "      <td>0.088820</td>\n",
       "      <td>9.249736</td>\n",
       "      <td>0.141720</td>\n",
       "      <td>NaN</td>\n",
       "      <td>NaN</td>\n",
       "    </tr>\n",
       "    <tr>\n",
       "      <th>3</th>\n",
       "      <td>3</td>\n",
       "      <td>4.557446</td>\n",
       "      <td>4.450966</td>\n",
       "      <td>4.557446</td>\n",
       "      <td>0.013546</td>\n",
       "      <td>0.013624</td>\n",
       "      <td>0.013306</td>\n",
       "      <td>0.014138</td>\n",
       "      <td>0.021539</td>\n",
       "      <td>0.160848</td>\n",
       "      <td>...</td>\n",
       "      <td>0.031746</td>\n",
       "      <td>0.0</td>\n",
       "      <td>0.046154</td>\n",
       "      <td>-1</td>\n",
       "      <td>9.254651</td>\n",
       "      <td>0.087281</td>\n",
       "      <td>9.249665</td>\n",
       "      <td>0.155967</td>\n",
       "      <td>NaN</td>\n",
       "      <td>NaN</td>\n",
       "    </tr>\n",
       "    <tr>\n",
       "      <th>4</th>\n",
       "      <td>4</td>\n",
       "      <td>4.558529</td>\n",
       "      <td>4.447713</td>\n",
       "      <td>4.558529</td>\n",
       "      <td>0.012972</td>\n",
       "      <td>0.013486</td>\n",
       "      <td>0.013000</td>\n",
       "      <td>0.014395</td>\n",
       "      <td>0.022542</td>\n",
       "      <td>0.161878</td>\n",
       "      <td>...</td>\n",
       "      <td>0.031746</td>\n",
       "      <td>0.0</td>\n",
       "      <td>0.046154</td>\n",
       "      <td>-1</td>\n",
       "      <td>9.254571</td>\n",
       "      <td>0.064013</td>\n",
       "      <td>9.249595</td>\n",
       "      <td>0.117203</td>\n",
       "      <td>NaN</td>\n",
       "      <td>NaN</td>\n",
       "    </tr>\n",
       "  </tbody>\n",
       "</table>\n",
       "<p>5 rows × 25 columns</p>\n",
       "</div>"
      ],
      "text/plain": [
       "   iter      loss  loss_bigram  loss_head   acc_tot  acc_start   acc_end  \\\n",
       "0     0  4.575071     4.450954   4.575071  0.011630   0.009340  0.011863   \n",
       "1     1  4.540353     4.455684   4.540353  0.013311   0.007910  0.013244   \n",
       "2     2  4.599963     4.452395   4.599963  0.012750   0.013734  0.012752   \n",
       "3     3  4.557446     4.450966   4.557446  0.013546   0.013624  0.013306   \n",
       "4     4  4.558529     4.447713   4.558529  0.012972   0.013486  0.013000   \n",
       "\n",
       "   acc_end_test  score_acc  score_start_acc  ...  wk0_64_acc  wk1_acc  \\\n",
       "0      0.013984   0.021717         0.164777  ...    0.031746      0.0   \n",
       "1      0.014061   0.020190         0.164541  ...    0.031746      0.0   \n",
       "2      0.014164   0.020342         0.155236  ...    0.031746      0.0   \n",
       "3      0.014138   0.021539         0.160848  ...    0.031746      0.0   \n",
       "4      0.014395   0.022542         0.161878  ...    0.031746      0.0   \n",
       "\n",
       "    wo1_acc  ff1_loss  norm_layers.0.attention.wk.weight  \\\n",
       "0  0.046154        -1                           9.254825   \n",
       "1  0.046154        -1                           9.254778   \n",
       "2  0.046154        -1                           9.254715   \n",
       "3  0.046154        -1                           9.254651   \n",
       "4  0.046154        -1                           9.254571   \n",
       "\n",
       "   gradnorm_layers.0.attention.wk.weight  norm_layers.1.attention.wk.weight  \\\n",
       "0                               0.072896                           9.249850   \n",
       "1                               0.081149                           9.249804   \n",
       "2                               0.088820                           9.249736   \n",
       "3                               0.087281                           9.249665   \n",
       "4                               0.064013                           9.249595   \n",
       "\n",
       "   gradnorm_layers.1.attention.wk.weight  norm_layers.1.attention.wo.weight  \\\n",
       "0                               0.104189                                NaN   \n",
       "1                               0.119260                                NaN   \n",
       "2                               0.141720                                NaN   \n",
       "3                               0.155967                                NaN   \n",
       "4                               0.117203                                NaN   \n",
       "\n",
       "   gradnorm_layers.1.attention.wo.weight  \n",
       "0                                    NaN  \n",
       "1                                    NaN  \n",
       "2                                    NaN  \n",
       "3                                    NaN  \n",
       "4                                    NaN  \n",
       "\n",
       "[5 rows x 25 columns]"
      ]
     },
     "execution_count": 67,
     "metadata": {},
     "output_type": "execute_result"
    }
   ],
   "source": [
    "df.head()"
   ]
  },
  {
   "cell_type": "code",
   "execution_count": 68,
   "metadata": {},
   "outputs": [
    {
     "name": "stdout",
     "output_type": "stream",
     "text": [
      "Index(['iter', 'loss', 'loss_bigram', 'loss_head', 'acc_tot', 'acc_start',\n",
      "       'acc_end', 'acc_end_test', 'score_acc', 'score_start_acc', 'score2_acc',\n",
      "       'score_cond_acc', 'pred_attended_acc', 'repeat_frac', 'wk0_acc',\n",
      "       'wk0_64_acc', 'wk1_acc', 'wo1_acc', 'ff1_loss',\n",
      "       'norm_layers.0.attention.wk.weight',\n",
      "       'gradnorm_layers.0.attention.wk.weight',\n",
      "       'norm_layers.1.attention.wk.weight',\n",
      "       'gradnorm_layers.1.attention.wk.weight',\n",
      "       'norm_layers.1.attention.wo.weight',\n",
      "       'gradnorm_layers.1.attention.wo.weight'],\n",
      "      dtype='object')\n"
     ]
    }
   ],
   "source": [
    "print(df.columns)"
   ]
  },
  {
   "cell_type": "code",
   "execution_count": 70,
   "metadata": {},
   "outputs": [
    {
     "name": "stdout",
     "output_type": "stream",
     "text": [
      "Collecting matplotlib\n",
      "  Downloading matplotlib-3.10.0-cp310-cp310-manylinux_2_17_x86_64.manylinux2014_x86_64.whl (8.6 MB)\n",
      "\u001b[2K     \u001b[38;2;114;156;31m━━━━━━━━━━━━━━━━━━━━━━━━━━━━━━━━━━━━━━━━\u001b[0m \u001b[32m8.6/8.6 MB\u001b[0m \u001b[31m66.7 MB/s\u001b[0m eta \u001b[36m0:00:00\u001b[0m MB/s\u001b[0m eta \u001b[36m0:00:01\u001b[0m\n",
      "\u001b[?25hCollecting fonttools>=4.22.0\n",
      "  Downloading fonttools-4.55.3-cp310-cp310-manylinux_2_17_x86_64.manylinux2014_x86_64.whl (4.6 MB)\n",
      "\u001b[2K     \u001b[38;2;114;156;31m━━━━━━━━━━━━━━━━━━━━━━━━━━━━━━━━━━━━━━━━\u001b[0m \u001b[32m4.6/4.6 MB\u001b[0m \u001b[31m90.3 MB/s\u001b[0m eta \u001b[36m0:00:00\u001b[0m31m107.3 MB/s\u001b[0m eta \u001b[36m0:00:01\u001b[0m\n",
      "\u001b[?25hRequirement already satisfied: pyparsing>=2.3.1 in /raid/home/detectionfeuxdeforet/caillaud_gab/altegrad/venv_altegrad/lib/python3.10/site-packages (from matplotlib) (3.2.1)\n",
      "Requirement already satisfied: numpy>=1.23 in /raid/home/detectionfeuxdeforet/caillaud_gab/altegrad/venv_altegrad/lib/python3.10/site-packages (from matplotlib) (1.26.4)\n",
      "Collecting contourpy>=1.0.1\n",
      "  Downloading contourpy-1.3.1-cp310-cp310-manylinux_2_17_x86_64.manylinux2014_x86_64.whl (324 kB)\n",
      "\u001b[2K     \u001b[38;2;114;156;31m━━━━━━━━━━━━━━━━━━━━━━━━━━━━━━━━━━━━━━\u001b[0m \u001b[32m325.0/325.0 kB\u001b[0m \u001b[31m67.6 MB/s\u001b[0m eta \u001b[36m0:00:00\u001b[0m\n",
      "\u001b[?25hRequirement already satisfied: pillow>=8 in /raid/home/detectionfeuxdeforet/caillaud_gab/altegrad/venv_altegrad/lib/python3.10/site-packages (from matplotlib) (11.1.0)\n",
      "Requirement already satisfied: packaging>=20.0 in /raid/home/detectionfeuxdeforet/caillaud_gab/altegrad/venv_altegrad/lib/python3.10/site-packages (from matplotlib) (24.2)\n",
      "Collecting kiwisolver>=1.3.1\n",
      "  Downloading kiwisolver-1.4.8-cp310-cp310-manylinux_2_12_x86_64.manylinux2010_x86_64.whl (1.6 MB)\n",
      "\u001b[2K     \u001b[38;2;114;156;31m━━━━━━━━━━━━━━━━━━━━━━━━━━━━━━━━━━━━━━━━\u001b[0m \u001b[32m1.6/1.6 MB\u001b[0m \u001b[31m92.7 MB/s\u001b[0m eta \u001b[36m0:00:00\u001b[0m\n",
      "\u001b[?25hRequirement already satisfied: python-dateutil>=2.7 in /raid/home/detectionfeuxdeforet/caillaud_gab/altegrad/venv_altegrad/lib/python3.10/site-packages (from matplotlib) (2.9.0.post0)\n",
      "Collecting cycler>=0.10\n",
      "  Using cached cycler-0.12.1-py3-none-any.whl (8.3 kB)\n",
      "Requirement already satisfied: six>=1.5 in /raid/home/detectionfeuxdeforet/caillaud_gab/altegrad/venv_altegrad/lib/python3.10/site-packages (from python-dateutil>=2.7->matplotlib) (1.17.0)\n",
      "Installing collected packages: kiwisolver, fonttools, cycler, contourpy, matplotlib\n",
      "Successfully installed contourpy-1.3.1 cycler-0.12.1 fonttools-4.55.3 kiwisolver-1.4.8 matplotlib-3.10.0\n",
      "\n",
      "\u001b[1m[\u001b[0m\u001b[34;49mnotice\u001b[0m\u001b[1;39;49m]\u001b[0m\u001b[39;49m A new release of pip is available: \u001b[0m\u001b[31;49m23.0.1\u001b[0m\u001b[39;49m -> \u001b[0m\u001b[32;49m24.3.1\u001b[0m\n",
      "\u001b[1m[\u001b[0m\u001b[34;49mnotice\u001b[0m\u001b[1;39;49m]\u001b[0m\u001b[39;49m To update, run: \u001b[0m\u001b[32;49mpip install --upgrade pip\u001b[0m\n"
     ]
    }
   ],
   "source": [
    "!pip install matplotlib"
   ]
  },
  {
   "cell_type": "code",
   "execution_count": 71,
   "metadata": {},
   "outputs": [
    {
     "data": {
      "text/plain": [
       "<Axes: >"
      ]
     },
     "execution_count": 71,
     "metadata": {},
     "output_type": "execute_result"
    },
    {
     "data": {
      "image/png": "[encoded data removed]",
      "text/plain": [
       "<Figure size 640x480 with 1 Axes>"
      ]
     },
     "metadata": {},
     "output_type": "display_data"
    }
   ],
   "source": [
    "\n",
    "df[['wk0_acc','wk0_64_acc', 'wk1_acc', 'wo1_acc']].plot()"
   ]
  },
  {
   "cell_type": "code",
   "execution_count": null,
   "metadata": {},
   "outputs": [],
   "source": []
  }
 ],
 "metadata": {
  "kernelspec": {
   "display_name": "Python 3 (ipykernel)",
   "language": "python",
   "name": "python3"
  },
  "language_info": {
   "codemirror_mode": {
    "name": "ipython",
    "version": 3
   },
   "file_extension": ".py",
   "mimetype": "text/x-python",
   "name": "python",
   "nbconvert_exporter": "python",
   "pygments_lexer": "ipython3",
   "version": "3.10.13"
  }
 },
 "nbformat": 4,
 "nbformat_minor": 2
}
